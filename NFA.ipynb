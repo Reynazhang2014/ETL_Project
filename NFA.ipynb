{
 "cells": [
  {
   "cell_type": "code",
   "execution_count": 1,
   "metadata": {},
   "outputs": [],
   "source": [
    "import pandas as pd\n",
    "from sqlalchemy import create_engine\n",
    "import sqlalchemy\n",
    "import pymysql\n",
    "pymysql.install_as_MySQLdb()"
   ]
  },
  {
   "cell_type": "markdown",
   "metadata": {},
   "source": [
    "## National Footprint Accounts 2018 from kaggle.com"
   ]
  },
  {
   "cell_type": "code",
   "execution_count": 2,
   "metadata": {},
   "outputs": [
    {
     "name": "stdout",
     "output_type": "stream",
     "text": [
      "(87020, 15)\n",
      "Index(['country', 'ISO alpha-3 code', 'UN_region', 'UN_subregion', 'year',\n",
      "       'record', 'crop_land', 'grazing_land', 'forest_land', 'fishing_ground',\n",
      "       'built_up_land', 'carbon', 'total', 'Percapita GDP (2010 USD)',\n",
      "       'population'],\n",
      "      dtype='object')\n"
     ]
    },
    {
     "data": {
      "text/html": [
       "<div>\n",
       "<style scoped>\n",
       "    .dataframe tbody tr th:only-of-type {\n",
       "        vertical-align: middle;\n",
       "    }\n",
       "\n",
       "    .dataframe tbody tr th {\n",
       "        vertical-align: top;\n",
       "    }\n",
       "\n",
       "    .dataframe thead th {\n",
       "        text-align: right;\n",
       "    }\n",
       "</style>\n",
       "<table border=\"1\" class=\"dataframe\">\n",
       "  <thead>\n",
       "    <tr style=\"text-align: right;\">\n",
       "      <th></th>\n",
       "      <th>country</th>\n",
       "      <th>ISO alpha-3 code</th>\n",
       "      <th>UN_region</th>\n",
       "      <th>UN_subregion</th>\n",
       "      <th>year</th>\n",
       "      <th>record</th>\n",
       "      <th>crop_land</th>\n",
       "      <th>grazing_land</th>\n",
       "      <th>forest_land</th>\n",
       "      <th>fishing_ground</th>\n",
       "      <th>built_up_land</th>\n",
       "      <th>carbon</th>\n",
       "      <th>total</th>\n",
       "      <th>Percapita GDP (2010 USD)</th>\n",
       "      <th>population</th>\n",
       "    </tr>\n",
       "  </thead>\n",
       "  <tbody>\n",
       "    <tr>\n",
       "      <th>0</th>\n",
       "      <td>Armenia</td>\n",
       "      <td>ARM</td>\n",
       "      <td>Asia</td>\n",
       "      <td>Western Asia</td>\n",
       "      <td>1992</td>\n",
       "      <td>BiocapPerCap</td>\n",
       "      <td>1.611286e-01</td>\n",
       "      <td>0.135023</td>\n",
       "      <td>0.083836</td>\n",
       "      <td>0.013718</td>\n",
       "      <td>0.033669</td>\n",
       "      <td>0.000000e+00</td>\n",
       "      <td>4.273741e-01</td>\n",
       "      <td>949.033</td>\n",
       "      <td>3449000</td>\n",
       "    </tr>\n",
       "    <tr>\n",
       "      <th>1</th>\n",
       "      <td>Armenia</td>\n",
       "      <td>ARM</td>\n",
       "      <td>Asia</td>\n",
       "      <td>Western Asia</td>\n",
       "      <td>1992</td>\n",
       "      <td>BiocapTotGHA</td>\n",
       "      <td>5.558130e+05</td>\n",
       "      <td>465763.337400</td>\n",
       "      <td>289190.662300</td>\n",
       "      <td>47320.224590</td>\n",
       "      <td>116139.598200</td>\n",
       "      <td>0.000000e+00</td>\n",
       "      <td>1.474227e+06</td>\n",
       "      <td>949.033</td>\n",
       "      <td>3449000</td>\n",
       "    </tr>\n",
       "    <tr>\n",
       "      <th>2</th>\n",
       "      <td>Armenia</td>\n",
       "      <td>ARM</td>\n",
       "      <td>Asia</td>\n",
       "      <td>Western Asia</td>\n",
       "      <td>1992</td>\n",
       "      <td>EFConsPerCap</td>\n",
       "      <td>3.909225e-01</td>\n",
       "      <td>0.189137</td>\n",
       "      <td>0.000001</td>\n",
       "      <td>0.004138</td>\n",
       "      <td>0.033669</td>\n",
       "      <td>1.112225e+00</td>\n",
       "      <td>1.730092e+00</td>\n",
       "      <td>949.033</td>\n",
       "      <td>3449000</td>\n",
       "    </tr>\n",
       "    <tr>\n",
       "      <th>3</th>\n",
       "      <td>Armenia</td>\n",
       "      <td>ARM</td>\n",
       "      <td>Asia</td>\n",
       "      <td>Western Asia</td>\n",
       "      <td>1992</td>\n",
       "      <td>EFConsTotGHA</td>\n",
       "      <td>1.348487e+06</td>\n",
       "      <td>652429.066600</td>\n",
       "      <td>4.327841</td>\n",
       "      <td>14272.803690</td>\n",
       "      <td>116139.598200</td>\n",
       "      <td>3.836620e+06</td>\n",
       "      <td>5.967954e+06</td>\n",
       "      <td>949.033</td>\n",
       "      <td>3449000</td>\n",
       "    </tr>\n",
       "    <tr>\n",
       "      <th>4</th>\n",
       "      <td>Armenia</td>\n",
       "      <td>ARM</td>\n",
       "      <td>Asia</td>\n",
       "      <td>Western Asia</td>\n",
       "      <td>1992</td>\n",
       "      <td>EFExportsPerCap</td>\n",
       "      <td>1.124910e-03</td>\n",
       "      <td>0.002283</td>\n",
       "      <td>0.000000</td>\n",
       "      <td>0.000438</td>\n",
       "      <td>0.000000</td>\n",
       "      <td>4.819043e-02</td>\n",
       "      <td>5.203676e-02</td>\n",
       "      <td>949.033</td>\n",
       "      <td>3449000</td>\n",
       "    </tr>\n",
       "  </tbody>\n",
       "</table>\n",
       "</div>"
      ],
      "text/plain": [
       "   country ISO alpha-3 code UN_region  UN_subregion  year           record  \\\n",
       "0  Armenia              ARM      Asia  Western Asia  1992     BiocapPerCap   \n",
       "1  Armenia              ARM      Asia  Western Asia  1992     BiocapTotGHA   \n",
       "2  Armenia              ARM      Asia  Western Asia  1992     EFConsPerCap   \n",
       "3  Armenia              ARM      Asia  Western Asia  1992     EFConsTotGHA   \n",
       "4  Armenia              ARM      Asia  Western Asia  1992  EFExportsPerCap   \n",
       "\n",
       "      crop_land   grazing_land    forest_land  fishing_ground  built_up_land  \\\n",
       "0  1.611286e-01       0.135023       0.083836        0.013718       0.033669   \n",
       "1  5.558130e+05  465763.337400  289190.662300    47320.224590  116139.598200   \n",
       "2  3.909225e-01       0.189137       0.000001        0.004138       0.033669   \n",
       "3  1.348487e+06  652429.066600       4.327841    14272.803690  116139.598200   \n",
       "4  1.124910e-03       0.002283       0.000000        0.000438       0.000000   \n",
       "\n",
       "         carbon         total  Percapita GDP (2010 USD)  population  \n",
       "0  0.000000e+00  4.273741e-01                   949.033     3449000  \n",
       "1  0.000000e+00  1.474227e+06                   949.033     3449000  \n",
       "2  1.112225e+00  1.730092e+00                   949.033     3449000  \n",
       "3  3.836620e+06  5.967954e+06                   949.033     3449000  \n",
       "4  4.819043e-02  5.203676e-02                   949.033     3449000  "
      ]
     },
     "execution_count": 2,
     "metadata": {},
     "output_type": "execute_result"
    }
   ],
   "source": [
    "NFA_df=pd.read_csv(\"NFA_2018.csv\")\n",
    "print(NFA_df.shape)\n",
    "print(NFA_df.columns)\n",
    "NFA_df.head()"
   ]
  },
  {
   "cell_type": "code",
   "execution_count": 3,
   "metadata": {},
   "outputs": [
    {
     "name": "stdout",
     "output_type": "stream",
     "text": [
      "False\n",
      "23020      Ethiopia PDR\n",
      "69780    Sudan (former)\n",
      "85700             World\n",
      "Name: country, dtype: object\n"
     ]
    }
   ],
   "source": [
    "countries_df=NFA_df[[\"ISO alpha-3 code\",\"country\"]].drop_duplicates(keep=\"first\")\n",
    "\n",
    "# find missing values in \"code\" column\n",
    "print(len(countries_df[\"ISO alpha-3 code\"].unique()) == len(countries_df[\"country\"].unique()))\n",
    "drop_list=countries_df[countries_df[\"ISO alpha-3 code\"].isna()][\"country\"]\n",
    "print(drop_list)\n",
    "countries_df=countries_df[~(countries_df[\"country\"].isin(drop_list))]"
   ]
  },
  {
   "cell_type": "code",
   "execution_count": 4,
   "metadata": {},
   "outputs": [],
   "source": [
    "NFA_2_df=NFA_df[~(NFA_df[\"country\"].isin(drop_list))]"
   ]
  },
  {
   "cell_type": "code",
   "execution_count": 5,
   "metadata": {},
   "outputs": [],
   "source": [
    "regions_df=NFA_2_df[['country','UN_region','UN_subregion']].drop_duplicates(keep=\"first\").reset_index(drop=True)"
   ]
  },
  {
   "cell_type": "code",
   "execution_count": 6,
   "metadata": {},
   "outputs": [],
   "source": [
    "population_df=NFA_2_df[[\"country\",\"year\",\"population\"]].drop_duplicates(keep=\"first\").reset_index(drop=True)"
   ]
  },
  {
   "cell_type": "code",
   "execution_count": 7,
   "metadata": {},
   "outputs": [],
   "source": [
    "records_list_df=NFA_df[\"record\"].drop_duplicates(keep=\"first\")"
   ]
  },
  {
   "cell_type": "code",
   "execution_count": 8,
   "metadata": {},
   "outputs": [],
   "source": [
    "e_footprint_df=NFA_2_df[[\"country\",\"year\",'record', 'crop_land', 'grazing_land', 'forest_land', 'fishing_ground',\n",
    "       'built_up_land', 'carbon']].loc[NFA_df[\"record\"].isin([\"BiocapTotGHA\",\" EFConsTotGHA\",\"EFExportsTotGHA\",\"EFImportsTotGHA\",\"EFProdTotGHA\"])]"
   ]
  },
  {
   "cell_type": "markdown",
   "metadata": {},
   "source": [
    "## Use pandas to load csv converted DataFrame into database"
   ]
  },
  {
   "cell_type": "code",
   "execution_count": 13,
   "metadata": {},
   "outputs": [],
   "source": [
    "rds_connection_string = \"root:mohammad@localhost/national_footprint\"\n",
    "engine = create_engine(f'mysql://{rds_connection_string}')"
   ]
  },
  {
   "cell_type": "code",
   "execution_count": 16,
   "metadata": {},
   "outputs": [],
   "source": [
    "regions_df.to_sql(name ='region',if_exists = 'replace', con = engine, index = False)\n",
    "population_df.to_sql(name ='population',if_exists = 'replace', con = engine, index = False)\n",
    "records_list_df.to_sql(name ='records',if_exists = 'replace', con = engine, index = False)\n",
    "e_footprint_df.to_sql(name ='e_footprint',if_exists = 'replace', con = engine, index = False)\n",
    "### Confirm data has been added by querying the customer_location table\n",
    "#pd.read_sql_query('select * from region', con=engine).head()"
   ]
  },
  {
   "cell_type": "markdown",
   "metadata": {},
   "source": [
    "## countries' land area from wikipedia page"
   ]
  },
  {
   "cell_type": "code",
   "execution_count": null,
   "metadata": {},
   "outputs": [],
   "source": [
    "url=\"https://en.wikipedia.org/wiki/List_of_countries_and_dependencies_by_area\"\n",
    "country_area_list=pd.read_html(url)\n",
    "country_area_df=country_area_list[0]\n",
    "columns=list(country_area_df.loc[0])\n",
    "print(columns)\n",
    "columns=['Rank', 'country', 'Total in km2 (mi2)', 'Land in km2 (mi2)', 'Water in km2 (mi2)', '% water', 'Notes']\n",
    "country_area_df.columns=columns\n",
    "country_area_df=country_area_df.iloc[2:]\n",
    "country_area_df=country_area_df.drop(columns=\"Rank\").reset_index(drop=True)\n",
    "print(country_area_df.shape)\n",
    "country_area_df.head()"
   ]
  },
  {
   "cell_type": "code",
   "execution_count": null,
   "metadata": {},
   "outputs": [],
   "source": [
    "country_area_df=country_area_df[country_area_df[\"country\"].isin(countries_df[\"country\"])]\n",
    "country_area_df.shape"
   ]
  },
  {
   "cell_type": "code",
   "execution_count": null,
   "metadata": {},
   "outputs": [],
   "source": [
    "area_df=pd.merge(countries_df, country_area_df,on=\"country\",how=\"left\").sort_values(\"country\")\n",
    "\n",
    "area_df.shape\n",
    "area_df[area_df[\"country\"].isin([\"Denmark\"])]"
   ]
  },
  {
   "cell_type": "code",
   "execution_count": null,
   "metadata": {},
   "outputs": [],
   "source": [
    "trial2=countries_df[(~countries_df[\"country\"].isin(country_area_df[\"country\"]))][\"country\"]\n",
    "trial2"
   ]
  },
  {
   "cell_type": "code",
   "execution_count": null,
   "metadata": {},
   "outputs": [],
   "source": [
    "rds_connection_string = \"localhost:mohammad@127.0.0.1/co2_emissions\"\n",
    "engine = create_engine(f'mysql://{rds_connection_string}')"
   ]
  },
  {
   "cell_type": "markdown",
   "metadata": {},
   "source": [
    "## World CO2 emissions from consumption of energy from theguardian.com"
   ]
  },
  {
   "cell_type": "code",
   "execution_count": null,
   "metadata": {},
   "outputs": [],
   "source": [
    "co2 = pd.read_excel('World CO2 emissions from consumption of energy.xlsx',sheet_name= 'Total Carbon Dioxide Emissions')"
   ]
  },
  {
   "cell_type": "code",
   "execution_count": null,
   "metadata": {},
   "outputs": [],
   "source": [
    "co2.columns = co2.iloc[0,]"
   ]
  },
  {
   "cell_type": "code",
   "execution_count": null,
   "metadata": {},
   "outputs": [],
   "source": [
    "co2.reset_index(inplace= True)"
   ]
  },
  {
   "cell_type": "code",
   "execution_count": null,
   "metadata": {},
   "outputs": [],
   "source": [
    "co2 = co2.reindex(co2.index.drop(0))"
   ]
  },
  {
   "cell_type": "code",
   "execution_count": null,
   "metadata": {},
   "outputs": [],
   "source": [
    "co2.rename(columns = {'level_0':'rank_2009','level_1':'rank_2008','Rank, 2006':'rank_2006',\n",
    "                     'ISO country code': 'iso_code'},inplace = True)\n",
    "co2.columns.name = None"
   ]
  },
  {
   "cell_type": "code",
   "execution_count": null,
   "metadata": {},
   "outputs": [],
   "source": [
    "clean = co2.loc[~co2['iso_code'].isnull(),]"
   ]
  },
  {
   "cell_type": "code",
   "execution_count": null,
   "metadata": {},
   "outputs": [],
   "source": [
    "# Table!! Create the ISO Code and Country List\n",
    "iso_country = clean[['iso_code','Country']].drop_duplicates().reset_index(drop = True).reset_index().rename(columns = {'Country':'country','index':'id'})\n",
    "iso_country.head()\n",
    "\n",
    "# remove duplicated isocode and year combinations\n",
    "iso_country = iso_country.loc[~iso_country.duplicated(subset=['iso_code','country'])]\n",
    "\n",
    "# UM map to both 'Wake Island' and U.S. Pacific Islands. After research, update UM for U.S. Pacific Islands to UM1\n",
    "#iso_country[iso_country['country'] == 'U.S. Pacific Islands']['iso_code'] = 'UM1'\n",
    "print(iso_country.head())\n",
    "#iso_country[iso_country[\"iso_code\"] == \"CN\"][\"country\"]=\"chinaa\"\n"
   ]
  },
  {
   "cell_type": "code",
   "execution_count": null,
   "metadata": {},
   "outputs": [],
   "source": [
    "trial3=pd.merge(iso_country,countries_df,how=\"outer\",on=\"country\").sort_values(\"country\").reset_index(drop=True)\n",
    "trial4=trial3[trial3.isnull().any(axis=1)]\n",
    "print(trial4)"
   ]
  },
  {
   "cell_type": "code",
   "execution_count": null,
   "metadata": {},
   "outputs": [],
   "source": [
    "##### rank_list = ['rank_2009','rank_2008','rank_2006','% change,  2008 to 2009','% change 2000 to 2009','Change in place, 2008 to 2009']\n",
    "clean_rank_change = clean[[*rank_list,'iso_code']].set_index('iso_code')\n",
    "clean_rank_change.head()"
   ]
  },
  {
   "cell_type": "code",
   "execution_count": null,
   "metadata": {},
   "outputs": [],
   "source": [
    "#remove the percentage changes\n",
    "clean_rank_new = clean_rank_change[['rank_2009','rank_2008','rank_2006']].rename(columns = lambda x : x.replace('rank_',''))\n",
    "\n",
    "clean_rank_new = clean_rank_new.stack().reset_index().rename(columns = {'level_1':'year',0:'rank'})\n",
    "\n",
    "\n",
    "clean_rank_new = clean_rank_new[~clean_rank_new.duplicated(subset = ['iso_code','year'])]\n",
    "clean_rank_new.head()"
   ]
  },
  {
   "cell_type": "code",
   "execution_count": null,
   "metadata": {},
   "outputs": [],
   "source": [
    "##Table!! Create the Country, Year, and CO2 Emission table\n",
    "clean_co2 = clean.drop(rank_list,axis = 1)\n",
    "clean_co2 = clean_co2.set_index('iso_code').drop('Country',axis = 1)\n",
    "clean_co2 = clean_co2.stack().reset_index().rename(columns = {'level_1':'year',0:'co2_emission'})\n",
    "\n",
    "# remove duplicated isocode and year combinations\n",
    "clean_co2 = clean_co2.loc[~clean_co2.duplicated(subset=['iso_code','year'])]"
   ]
  },
  {
   "cell_type": "code",
   "execution_count": null,
   "metadata": {},
   "outputs": [],
   "source": []
  }
 ],
 "metadata": {
  "kernelspec": {
   "display_name": "Python 3",
   "language": "python",
   "name": "python3"
  },
  "language_info": {
   "codemirror_mode": {
    "name": "ipython",
    "version": 3
   },
   "file_extension": ".py",
   "mimetype": "text/x-python",
   "name": "python",
   "nbconvert_exporter": "python",
   "pygments_lexer": "ipython3",
   "version": "3.6.7"
  }
 },
 "nbformat": 4,
 "nbformat_minor": 2
}
