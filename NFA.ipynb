{
 "cells": [
  {
   "cell_type": "code",
   "execution_count": 18,
   "metadata": {},
   "outputs": [],
   "source": [
    "import pandas as pd\n",
    "import pycountry\n",
    "from sqlalchemy import create_engine\n",
    "import sqlalchemy\n",
    "import pymysql\n",
    "pymysql.install_as_MySQLdb()\n"
   ]
  },
  {
   "cell_type": "markdown",
   "metadata": {},
   "source": [
    "## National Footprint Accounts 2018 from kaggle.com"
   ]
  },
  {
   "cell_type": "code",
   "execution_count": 34,
   "metadata": {},
   "outputs": [
    {
     "name": "stdout",
     "output_type": "stream",
     "text": [
      "(87020, 15)\n",
      "Index(['country', 'ISO alpha-3 code', 'UN_region', 'UN_subregion', 'year',\n",
      "       'record', 'crop_land', 'grazing_land', 'forest_land', 'fishing_ground',\n",
      "       'built_up_land', 'carbon', 'total', 'Percapita GDP (2010 USD)',\n",
      "       'population'],\n",
      "      dtype='object')\n"
     ]
    }
   ],
   "source": [
    "NFA_df=pd.read_csv(\"NFA_2018.csv\")\n",
    "print(NFA_df.shape)\n",
    "print(NFA_df.columns)\n",
    "NFA_df.head()\n",
    "NFA_df=NFA_df.rename(columns={'ISO alpha-3 code':'alpha_3'})"
   ]
  },
  {
   "cell_type": "code",
   "execution_count": 37,
   "metadata": {},
   "outputs": [
    {
     "name": "stdout",
     "output_type": "stream",
     "text": [
      "(196, 2)\n",
      "False\n",
      "23020      Ethiopia PDR\n",
      "69780    Sudan (former)\n",
      "85700             World\n",
      "Name: country, dtype: object\n"
     ]
    }
   ],
   "source": [
    "# create country/ountry_code table and clean it\n",
    "countries_df=NFA_df[[\"alpha_3\",\"country\"]].drop_duplicates(keep=\"first\")\n",
    "print(countries_df.shape)\n",
    "# find missing values in  column\n",
    "print(len(countries_df[\"alpha_3\"].unique()) == len(countries_df[\"country\"].unique()))\n",
    "\n",
    "drop_list=countries_df[countries_df[\"alpha_3\"].isna()][\"country\"]\n",
    "print(drop_list)\n",
    "countries_df=countries_df[~(countries_df[\"country\"].isin(drop_list))]"
   ]
  },
  {
   "cell_type": "code",
   "execution_count": 4,
   "metadata": {},
   "outputs": [],
   "source": [
    "NFA_2_df=NFA_df[~(NFA_df[\"country\"].isin(drop_list))]"
   ]
  },
  {
   "cell_type": "code",
   "execution_count": 5,
   "metadata": {},
   "outputs": [],
   "source": [
    "regions_df=NFA_2_df[['country','UN_region','UN_subregion']].drop_duplicates(keep=\"first\").reset_index(drop=True)"
   ]
  },
  {
   "cell_type": "code",
   "execution_count": 6,
   "metadata": {},
   "outputs": [],
   "source": [
    "population_df=NFA_2_df[[\"country\",\"year\",\"population\"]].drop_duplicates(keep=\"first\").reset_index(drop=True)"
   ]
  },
  {
   "cell_type": "code",
   "execution_count": 7,
   "metadata": {},
   "outputs": [],
   "source": [
    "records_list_df=NFA_df[\"record\"].drop_duplicates(keep=\"first\")"
   ]
  },
  {
   "cell_type": "code",
   "execution_count": 8,
   "metadata": {},
   "outputs": [],
   "source": [
    "e_footprint_df=NFA_2_df[[\"country\",\"year\",'record', 'crop_land', 'grazing_land', 'forest_land', 'fishing_ground',\n",
    "       'built_up_land', 'carbon']].loc[NFA_df[\"record\"].isin([\"BiocapTotGHA\",\" EFConsTotGHA\",\"EFExportsTotGHA\",\"EFImportsTotGHA\",\"EFProdTotGHA\"])]"
   ]
  },
  {
   "cell_type": "code",
   "execution_count": 43,
   "metadata": {},
   "outputs": [],
   "source": [
    "df_names=[countries_df,regions_df,population_df,e_footprint_df]\n",
    "table_names=[\"countries\",\"regions\",\"population\",\"e_footprint\"]"
   ]
  },
  {
   "cell_type": "markdown",
   "metadata": {},
   "source": [
    "## Use pandas to load csv converted DataFrame into database"
   ]
  },
  {
   "cell_type": "code",
   "execution_count": 44,
   "metadata": {},
   "outputs": [],
   "source": [
    "rds_connection_string = \"root:mohammad@localhost/national_footprint\"\n",
    "engine = create_engine(f'mysql://{rds_connection_string}')"
   ]
  },
  {
   "cell_type": "code",
   "execution_count": 48,
   "metadata": {},
   "outputs": [
    {
     "data": {
      "text/html": [
       "<div>\n",
       "<style scoped>\n",
       "    .dataframe tbody tr th:only-of-type {\n",
       "        vertical-align: middle;\n",
       "    }\n",
       "\n",
       "    .dataframe tbody tr th {\n",
       "        vertical-align: top;\n",
       "    }\n",
       "\n",
       "    .dataframe thead th {\n",
       "        text-align: right;\n",
       "    }\n",
       "</style>\n",
       "<table border=\"1\" class=\"dataframe\">\n",
       "  <thead>\n",
       "    <tr style=\"text-align: right;\">\n",
       "      <th></th>\n",
       "      <th>country</th>\n",
       "      <th>UN_region</th>\n",
       "      <th>UN_subregion</th>\n",
       "    </tr>\n",
       "  </thead>\n",
       "  <tbody>\n",
       "    <tr>\n",
       "      <th>0</th>\n",
       "      <td>Armenia</td>\n",
       "      <td>Asia</td>\n",
       "      <td>Western Asia</td>\n",
       "    </tr>\n",
       "    <tr>\n",
       "      <th>1</th>\n",
       "      <td>Afghanistan</td>\n",
       "      <td>Asia</td>\n",
       "      <td>Southern Asia</td>\n",
       "    </tr>\n",
       "    <tr>\n",
       "      <th>2</th>\n",
       "      <td>Albania</td>\n",
       "      <td>Europe</td>\n",
       "      <td>Southern Europe</td>\n",
       "    </tr>\n",
       "    <tr>\n",
       "      <th>3</th>\n",
       "      <td>Algeria</td>\n",
       "      <td>Africa</td>\n",
       "      <td>Northern Africa</td>\n",
       "    </tr>\n",
       "    <tr>\n",
       "      <th>4</th>\n",
       "      <td>Angola</td>\n",
       "      <td>Africa</td>\n",
       "      <td>Middle Africa</td>\n",
       "    </tr>\n",
       "  </tbody>\n",
       "</table>\n",
       "</div>"
      ],
      "text/plain": [
       "       country UN_region     UN_subregion\n",
       "0      Armenia      Asia     Western Asia\n",
       "1  Afghanistan      Asia    Southern Asia\n",
       "2      Albania    Europe  Southern Europe\n",
       "3      Algeria    Africa  Northern Africa\n",
       "4       Angola    Africa    Middle Africa"
      ]
     },
     "execution_count": 48,
     "metadata": {},
     "output_type": "execute_result"
    }
   ],
   "source": [
    "for i in range(len(df_names)):\n",
    "    df_names[i].to_sql(name =table_names[i],if_exists = 'replace', con = engine, index = False)\n",
    "\n",
    "### Confirm data has been added by querying the customer_location table\n",
    "pd.read_sql_query('select * from regions', con=engine).head()"
   ]
  },
  {
   "cell_type": "code",
   "execution_count": null,
   "metadata": {},
   "outputs": [],
   "source": []
  },
  {
   "cell_type": "markdown",
   "metadata": {},
   "source": [
    "## countries' land area from wikipedia page"
   ]
  },
  {
   "cell_type": "code",
   "execution_count": 58,
   "metadata": {},
   "outputs": [
    {
     "name": "stdout",
     "output_type": "stream",
     "text": [
      "      0                           1                   2                  3  \\\n",
      "0  Rank  Sovereign state/dependency  Total in km2 (mi2)  Land in km2 (mi2)   \n",
      "1   NaN                       World       (196,940,000)       (57,510,000)   \n",
      "2   NaN                      Russia         (6,601,670)        (6,323,482)   \n",
      "3   NaN                  Antarctica         (5,400,000)        (5,400,000)   \n",
      "4   NaN                      Canada         (3,855,100)        (3,511,023)   \n",
      "\n",
      "                    4        5  \\\n",
      "0  Water in km2 (mi2)  % water   \n",
      "1       (139,434,000)     70.8   \n",
      "2           (278,200)     4.21   \n",
      "3                 (0)        0   \n",
      "4           (344,080)     8.93   \n",
      "\n",
      "                                                   6  \n",
      "0                                              Notes  \n",
      "1                                                NaN  \n",
      "2  Largest country in the world (10.995% of the w...  \n",
      "3  13,720,000 km2 (5,300,000 sq mi) (98%) of land...  \n",
      "4  Largest English and French-speaking country an...  \n",
      "(261, 6)\n"
     ]
    },
    {
     "data": {
      "text/html": [
       "<div>\n",
       "<style scoped>\n",
       "    .dataframe tbody tr th:only-of-type {\n",
       "        vertical-align: middle;\n",
       "    }\n",
       "\n",
       "    .dataframe tbody tr th {\n",
       "        vertical-align: top;\n",
       "    }\n",
       "\n",
       "    .dataframe thead th {\n",
       "        text-align: right;\n",
       "    }\n",
       "</style>\n",
       "<table border=\"1\" class=\"dataframe\">\n",
       "  <thead>\n",
       "    <tr style=\"text-align: right;\">\n",
       "      <th></th>\n",
       "      <th>sovereign state/dependency</th>\n",
       "      <th>Total_in_km2(mi2)</th>\n",
       "      <th>Land_in_km2(mi2)</th>\n",
       "      <th>Water_in_km2(mi2)</th>\n",
       "      <th>%water</th>\n",
       "      <th>Notes</th>\n",
       "    </tr>\n",
       "  </thead>\n",
       "  <tbody>\n",
       "    <tr>\n",
       "      <th>174</th>\n",
       "      <td>Abkhazia</td>\n",
       "      <td>(3,340)</td>\n",
       "      <td>NaN</td>\n",
       "      <td>NaN</td>\n",
       "      <td>NaN</td>\n",
       "      <td>[Note 49]</td>\n",
       "    </tr>\n",
       "    <tr>\n",
       "      <th>42</th>\n",
       "      <td>Afghanistan</td>\n",
       "      <td>(251,830)</td>\n",
       "      <td>(251,830)</td>\n",
       "      <td>(0)</td>\n",
       "      <td>0</td>\n",
       "      <td>NaN</td>\n",
       "    </tr>\n",
       "    <tr>\n",
       "      <th>224</th>\n",
       "      <td>Akrotiri and Dhekelia (United Kingdom)</td>\n",
       "      <td>(98.0)</td>\n",
       "      <td>not determined</td>\n",
       "      <td>not determined</td>\n",
       "      <td>not determined</td>\n",
       "      <td>There is a salt lake and some wetlands of unkn...</td>\n",
       "    </tr>\n",
       "    <tr>\n",
       "      <th>146</th>\n",
       "      <td>Albania</td>\n",
       "      <td>(11,100)</td>\n",
       "      <td>(10,578)</td>\n",
       "      <td>(520)</td>\n",
       "      <td>4.7</td>\n",
       "      <td>NaN</td>\n",
       "    </tr>\n",
       "    <tr>\n",
       "      <th>10</th>\n",
       "      <td>Algeria</td>\n",
       "      <td>(919,595)</td>\n",
       "      <td>(919,595)</td>\n",
       "      <td>(0)</td>\n",
       "      <td>0</td>\n",
       "      <td>Largest Arabic-speaking and Berber-speaking co...</td>\n",
       "    </tr>\n",
       "  </tbody>\n",
       "</table>\n",
       "</div>"
      ],
      "text/plain": [
       "                 sovereign state/dependency Total_in_km2(mi2)  \\\n",
       "174                                Abkhazia           (3,340)   \n",
       "42                              Afghanistan         (251,830)   \n",
       "224  Akrotiri and Dhekelia (United Kingdom)            (98.0)   \n",
       "146                                 Albania          (11,100)   \n",
       "10                                  Algeria         (919,595)   \n",
       "\n",
       "    Land_in_km2(mi2) Water_in_km2(mi2)          %water  \\\n",
       "174              NaN               NaN             NaN   \n",
       "42         (251,830)               (0)               0   \n",
       "224   not determined    not determined  not determined   \n",
       "146         (10,578)             (520)             4.7   \n",
       "10         (919,595)               (0)               0   \n",
       "\n",
       "                                                 Notes  \n",
       "174                                          [Note 49]  \n",
       "42                                                 NaN  \n",
       "224  There is a salt lake and some wetlands of unkn...  \n",
       "146                                                NaN  \n",
       "10   Largest Arabic-speaking and Berber-speaking co...  "
      ]
     },
     "execution_count": 58,
     "metadata": {},
     "output_type": "execute_result"
    }
   ],
   "source": [
    "url=\"https://en.wikipedia.org/wiki/List_of_countries_and_dependencies_by_area\"\n",
    "country_area_df=pd.read_html(url)[0]\n",
    "print(country_area_df.head())\n",
    "# clean the country_area_df \n",
    "columns=list(country_area_df.loc[0])\n",
    "#print(columns)\n",
    "columns=['Rank', 'sovereign state/dependency', 'Total_in_km2(mi2)', 'Land_in_km2(mi2)', 'Water_in_km2(mi2)', '%water', 'Notes']\n",
    "country_area_df.columns=columns\n",
    "country_area_df=country_area_df.iloc[2:]\n",
    "country_area_df=country_area_df.drop(columns=\"Rank\").reset_index(drop=True).sort_values(\"sovereign state/dependency\")\n",
    "print(country_area_df.shape)\n",
    "country_area_df.head()"
   ]
  },
  {
   "cell_type": "code",
   "execution_count": null,
   "metadata": {},
   "outputs": [],
   "source": [
    "trial=pd.merge(iso_country,countries_df,how=\"outer\",on=\"country\").sort_values(\"country\").reset_index(drop=True)\n",
    "trial4=trial3[trial3.isnull().any(axis=1)]\n",
    "print(trial4)"
   ]
  },
  {
   "cell_type": "code",
   "execution_count": null,
   "metadata": {},
   "outputs": [],
   "source": []
  },
  {
   "cell_type": "code",
   "execution_count": null,
   "metadata": {},
   "outputs": [],
   "source": []
  },
  {
   "cell_type": "code",
   "execution_count": null,
   "metadata": {},
   "outputs": [],
   "source": []
  },
  {
   "cell_type": "code",
   "execution_count": 53,
   "metadata": {},
   "outputs": [
    {
     "ename": "SyntaxError",
     "evalue": "EOL while scanning string literal (<ipython-input-53-70cbaa790ce2>, line 1)",
     "output_type": "error",
     "traceback": [
      "\u001b[0;36m  File \u001b[0;32m\"<ipython-input-53-70cbaa790ce2>\"\u001b[0;36m, line \u001b[0;32m1\u001b[0m\n\u001b[0;31m    rds_connection_string = \"localhost:mohammad@127.0.0.1/co2_emissions\u001b[0m\n\u001b[0m                                                                       ^\u001b[0m\n\u001b[0;31mSyntaxError\u001b[0m\u001b[0;31m:\u001b[0m EOL while scanning string literal\n"
     ]
    }
   ],
   "source": [
    "\n"
   ]
  },
  {
   "cell_type": "markdown",
   "metadata": {},
   "source": [
    "## World CO2 emissions from consumption of energy from theguardian.com"
   ]
  },
  {
   "cell_type": "code",
   "execution_count": null,
   "metadata": {},
   "outputs": [],
   "source": [
    "co2 = pd.read_excel('World CO2 emissions from consumption of energy.xlsx',sheet_name= 'Total Carbon Dioxide Emissions')"
   ]
  },
  {
   "cell_type": "code",
   "execution_count": null,
   "metadata": {},
   "outputs": [],
   "source": [
    "co2.columns = co2.iloc[0,]"
   ]
  },
  {
   "cell_type": "code",
   "execution_count": null,
   "metadata": {},
   "outputs": [],
   "source": [
    "co2.reset_index(inplace= True)"
   ]
  },
  {
   "cell_type": "code",
   "execution_count": null,
   "metadata": {},
   "outputs": [],
   "source": [
    "co2 = co2.reindex(co2.index.drop(0))"
   ]
  },
  {
   "cell_type": "code",
   "execution_count": null,
   "metadata": {},
   "outputs": [],
   "source": [
    "co2.rename(columns = {'level_0':'rank_2009','level_1':'rank_2008','Rank, 2006':'rank_2006',\n",
    "                     'ISO country code': 'iso_code'},inplace = True)\n",
    "co2.columns.name = None"
   ]
  },
  {
   "cell_type": "code",
   "execution_count": null,
   "metadata": {},
   "outputs": [],
   "source": [
    "clean = co2.loc[~co2['iso_code'].isnull(),]"
   ]
  },
  {
   "cell_type": "code",
   "execution_count": null,
   "metadata": {},
   "outputs": [],
   "source": [
    "# Table!! Create the ISO Code and Country List\n",
    "iso_country = clean[['iso_code','Country']].drop_duplicates().reset_index(drop = True).reset_index().rename(columns = {'Country':'country','index':'id'})\n",
    "iso_country.head()\n",
    "\n",
    "# remove duplicated isocode and year combinations\n",
    "iso_country = iso_country.loc[~iso_country.duplicated(subset=['iso_code','country'])]\n",
    "\n",
    "# UM map to both 'Wake Island' and U.S. Pacific Islands. After research, update UM for U.S. Pacific Islands to UM1\n",
    "#iso_country[iso_country['country'] == 'U.S. Pacific Islands']['iso_code'] = 'UM1'\n",
    "print(iso_country.head())\n",
    "#iso_country[iso_country[\"iso_code\"] == \"CN\"][\"country\"]=\"chinaa\"\n"
   ]
  },
  {
   "cell_type": "code",
   "execution_count": 59,
   "metadata": {},
   "outputs": [
    {
     "ename": "NameError",
     "evalue": "name 'iso_country' is not defined",
     "output_type": "error",
     "traceback": [
      "\u001b[0;31m---------------------------------------------------------------------------\u001b[0m",
      "\u001b[0;31mNameError\u001b[0m                                 Traceback (most recent call last)",
      "\u001b[0;32m<ipython-input-59-6f5821aac958>\u001b[0m in \u001b[0;36m<module>\u001b[0;34m\u001b[0m\n\u001b[0;32m----> 1\u001b[0;31m \u001b[0mtrial3\u001b[0m\u001b[0;34m=\u001b[0m\u001b[0mpd\u001b[0m\u001b[0;34m.\u001b[0m\u001b[0mmerge\u001b[0m\u001b[0;34m(\u001b[0m\u001b[0miso_country\u001b[0m\u001b[0;34m,\u001b[0m\u001b[0mcountries_df\u001b[0m\u001b[0;34m,\u001b[0m\u001b[0mhow\u001b[0m\u001b[0;34m=\u001b[0m\u001b[0;34m\"outer\"\u001b[0m\u001b[0;34m,\u001b[0m\u001b[0mon\u001b[0m\u001b[0;34m=\u001b[0m\u001b[0;34m\"country\"\u001b[0m\u001b[0;34m)\u001b[0m\u001b[0;34m.\u001b[0m\u001b[0msort_values\u001b[0m\u001b[0;34m(\u001b[0m\u001b[0;34m\"country\"\u001b[0m\u001b[0;34m)\u001b[0m\u001b[0;34m.\u001b[0m\u001b[0mreset_index\u001b[0m\u001b[0;34m(\u001b[0m\u001b[0mdrop\u001b[0m\u001b[0;34m=\u001b[0m\u001b[0;32mTrue\u001b[0m\u001b[0;34m)\u001b[0m\u001b[0;34m\u001b[0m\u001b[0;34m\u001b[0m\u001b[0m\n\u001b[0m\u001b[1;32m      2\u001b[0m \u001b[0mtrial4\u001b[0m\u001b[0;34m=\u001b[0m\u001b[0mtrial3\u001b[0m\u001b[0;34m[\u001b[0m\u001b[0mtrial3\u001b[0m\u001b[0;34m.\u001b[0m\u001b[0misnull\u001b[0m\u001b[0;34m(\u001b[0m\u001b[0;34m)\u001b[0m\u001b[0;34m.\u001b[0m\u001b[0many\u001b[0m\u001b[0;34m(\u001b[0m\u001b[0maxis\u001b[0m\u001b[0;34m=\u001b[0m\u001b[0;36m1\u001b[0m\u001b[0;34m)\u001b[0m\u001b[0;34m]\u001b[0m\u001b[0;34m\u001b[0m\u001b[0;34m\u001b[0m\u001b[0m\n\u001b[1;32m      3\u001b[0m \u001b[0mprint\u001b[0m\u001b[0;34m(\u001b[0m\u001b[0mtrial4\u001b[0m\u001b[0;34m)\u001b[0m\u001b[0;34m\u001b[0m\u001b[0;34m\u001b[0m\u001b[0m\n",
      "\u001b[0;31mNameError\u001b[0m: name 'iso_country' is not defined"
     ]
    }
   ],
   "source": [
    "trial3=pd.merge(iso_country,countries_df,how=\"outer\",on=\"country\").sort_values(\"country\").reset_index(drop=True)\n",
    "trial4=trial3[trial3.isnull().any(axis=1)]\n",
    "print(trial4)"
   ]
  },
  {
   "cell_type": "code",
   "execution_count": null,
   "metadata": {},
   "outputs": [],
   "source": [
    "##### rank_list = ['rank_2009','rank_2008','rank_2006','% change,  2008 to 2009','% change 2000 to 2009','Change in place, 2008 to 2009']\n",
    "clean_rank_change = clean[[*rank_list,'iso_code']].set_index('iso_code')\n",
    "clean_rank_change.head()"
   ]
  },
  {
   "cell_type": "code",
   "execution_count": null,
   "metadata": {},
   "outputs": [],
   "source": [
    "#remove the percentage changes\n",
    "clean_rank_new = clean_rank_change[['rank_2009','rank_2008','rank_2006']].rename(columns = lambda x : x.replace('rank_',''))\n",
    "\n",
    "clean_rank_new = clean_rank_new.stack().reset_index().rename(columns = {'level_1':'year',0:'rank'})\n",
    "\n",
    "\n",
    "clean_rank_new = clean_rank_new[~clean_rank_new.duplicated(subset = ['iso_code','year'])]\n",
    "clean_rank_new.head()"
   ]
  },
  {
   "cell_type": "code",
   "execution_count": null,
   "metadata": {},
   "outputs": [],
   "source": [
    "##Table!! Create the Country, Year, and CO2 Emission table\n",
    "clean_co2 = clean.drop(rank_list,axis = 1)\n",
    "clean_co2 = clean_co2.set_index('iso_code').drop('Country',axis = 1)\n",
    "clean_co2 = clean_co2.stack().reset_index().rename(columns = {'level_1':'year',0:'co2_emission'})\n",
    "\n",
    "# remove duplicated isocode and year combinations\n",
    "clean_co2 = clean_co2.loc[~clean_co2.duplicated(subset=['iso_code','year'])]"
   ]
  },
  {
   "cell_type": "code",
   "execution_count": 21,
   "metadata": {},
   "outputs": [
    {
     "data": {
      "text/plain": [
       "249"
      ]
     },
     "execution_count": 21,
     "metadata": {},
     "output_type": "execute_result"
    }
   ],
   "source": [
    "len(list(pycountry.countries))"
   ]
  },
  {
   "cell_type": "code",
   "execution_count": null,
   "metadata": {},
   "outputs": [],
   "source": []
  }
 ],
 "metadata": {
  "kernelspec": {
   "display_name": "Python 3",
   "language": "python",
   "name": "python3"
  },
  "language_info": {
   "codemirror_mode": {
    "name": "ipython",
    "version": 3
   },
   "file_extension": ".py",
   "mimetype": "text/x-python",
   "name": "python",
   "nbconvert_exporter": "python",
   "pygments_lexer": "ipython3",
   "version": "3.6.7"
  }
 },
 "nbformat": 4,
 "nbformat_minor": 2
}
